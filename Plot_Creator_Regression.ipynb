{
 "cells": [
  {
   "cell_type": "code",
   "execution_count": null,
   "metadata": {},
   "outputs": [],
   "source": [
    "#Dit bestand bevat de code die wij gebruikt hebben om de regressies te plotten met elk variabel per soort land tegenover de total_deaths.\n",
    "#het heeft verder geen toegevoegde waarde aan het model, maar we waren niet zeker of wij dit door moesten inleveren of niet. \n",
    "# Des de reden hebben we naast deze comment geen verdere comments geplaatst."
   ]
  },
  {
   "cell_type": "code",
   "execution_count": 2,
   "metadata": {},
   "outputs": [],
   "source": [
    "import matplotlib.pyplot as plt\n",
    "import numpy as np\n",
    "from sklearn import datasets, linear_model\n",
    "# from sklearn.metrics import mean_squared_error, r2_score\n",
    "import pandas as pd\n",
    "from sklearn.linear_model import LinearRegression\n",
    "from datetime import datetime\n",
    "import time\n",
    "import math\n",
    "import os"
   ]
  },
  {
   "cell_type": "code",
   "execution_count": 3,
   "metadata": {},
   "outputs": [],
   "source": [
    "df = pd.read_csv(\"Datasets/Case_PRB_Europe_Only_V0.17.csv\")\n",
    "df = df.groupby(\"location\")"
   ]
  },
  {
   "cell_type": "code",
   "execution_count": null,
   "metadata": {},
   "outputs": [],
   "source": [
    "class PredGroup:\n",
    "    def __init__(self):\n",
    "        self.x = {}\n",
    "        self.y = {}\n",
    "        self.pred_y = {}\n",
    "        self.group_name = \"\""
   ]
  },
  {
   "cell_type": "code",
   "execution_count": null,
   "metadata": {},
   "outputs": [],
   "source": [
    "def createSaveDirectory(path):\n",
    "    directoryExists = os.path.exists( path )\n",
    "\n",
    "    if(not directoryExists):\n",
    "        createDirectories( path )\n",
    "\n",
    "def createDirectories(path):\n",
    "    try:\n",
    "        os.makedirs(path)\n",
    "    except OSError:\n",
    "        print (\"Creation of the directory failed\")\n",
    "        quit()\n",
    "\n",
    "yKey = \"total_deaths\"\n",
    "# yKey = \"human_development_index\"\n",
    "xKeys = [\"day\", \"day_int\",\t\"month\", \"year\", \"total_cases\",\t\"new_cases\", \"new_cases_smoothed\", \"new_deaths\", \"new_deaths_smoothed\", \"stringency_index\",\t\"population\", \"population_density\", \"median_age\", \"aged_65_older\", \"aged_70_older\", \"gdp_per_capita\", \"extreme_poverty\", \"cardiovasc_death_rate\", \"diabetes_prevalence\", \"total_smokers\", \"hospital_beds_per_thousand\", \"life_expectancy\", \"human_development_index\"]\n",
    "for xKey in xKeys:\n",
    "    predGroups = []\n",
    "    # loc = \"./regression_plots_XY_fix/\" + yKey + \"/\"\n",
    "    print(xKey)\n",
    "    # createDirectories(loc)\n",
    "    # print(loc)\n",
    "        \n",
    "    for group_name, df_group in df:\n",
    "        predGroup = PredGroup()\n",
    "        predGroup.x = df_group.iloc[:, df_group.columns.get_loc(xKey)].values.reshape(-1, 1)\n",
    "        predGroup.y = df_group.iloc[:, df_group.columns.get_loc(yKey)].values.reshape(-1, 1)\n",
    "        predGroup.group_name = group_name\n",
    "\n",
    "        linear_regressor = LinearRegression()\n",
    "        linear_regressor.fit(predGroup.x, predGroup.y)\n",
    "        predGroup.pred_y = linear_regressor.predict(predGroup.x)\n",
    "\n",
    "        predGroups.append(predGroup)\n",
    "\n",
    "    for index, predGroup in enumerate(predGroups):\n",
    "        f = plt.figure(facecolor='white')\n",
    "        plt.scatter(predGroup.x, predGroup.y)\n",
    "        plt.plot(predGroup.x, predGroup.pred_y, color = \"pink\")\n",
    "        plt.xlabel(xKey)\n",
    "        plt.ylabel(yKey)\n",
    "        plt.title(predGroup.group_name)\n",
    "        loc = \"./regression_plots_XY_fix/\" + xKey + \"/\"\n",
    "        createDirectories(loc)\n",
    "        plt.savefig(loc + yKey + \"_\" + xKey + \"_\" + predGroup.group_name + \".png\")\n",
    "        f.clear()\n",
    "        plt.close(f)\n"
   ]
  }
 ],
 "metadata": {
  "interpreter": {
   "hash": "b3ba2566441a7c06988d0923437866b63cedc61552a5af99d1f4fb67d367b25f"
  },
  "kernelspec": {
   "display_name": "Python 3.8.8 ('base')",
   "language": "python",
   "name": "python3"
  },
  "language_info": {
   "codemirror_mode": {
    "name": "ipython",
    "version": 3
   },
   "file_extension": ".py",
   "mimetype": "text/x-python",
   "name": "python",
   "nbconvert_exporter": "python",
   "pygments_lexer": "ipython3",
   "version": "3.9.8"
  },
  "orig_nbformat": 4
 },
 "nbformat": 4,
 "nbformat_minor": 2
}
