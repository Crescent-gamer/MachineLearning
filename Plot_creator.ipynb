{
 "cells": [
  {
   "cell_type": "code",
   "execution_count": 158,
   "metadata": {},
   "outputs": [],
   "source": [
    "import matplotlib.pyplot as plt\n",
    "import numpy as np\n",
    "from sklearn import datasets, linear_model\n",
    "# from sklearn.metrics import mean_squared_error, r2_score\n",
    "import pandas as pd\n",
    "from sklearn.linear_model import LinearRegression\n",
    "from datetime import datetime\n",
    "import time\n",
    "import math"
   ]
  },
  {
   "cell_type": "code",
   "execution_count": 159,
   "metadata": {},
   "outputs": [],
   "source": [
    "df = pd.read_csv(\"Case_PRB_Europe_Only_true_Steven_Testing_Berat told me to_V0.17.csv\")\n",
    "df = df.groupby(\"location\")"
   ]
  },
  {
   "cell_type": "code",
   "execution_count": 160,
   "metadata": {},
   "outputs": [],
   "source": [
    "class PredGroup:\n",
    "    def __init__(self):\n",
    "        self.x = {}\n",
    "        self.y = {}\n",
    "        self.pred_y = {}\n",
    "        self.group_name = \"\""
   ]
  },
  {
   "cell_type": "code",
   "execution_count": 161,
   "metadata": {},
   "outputs": [],
   "source": [
    "xKey = \"total_deaths\"\n",
    "yKey = \"human_development_index\"\n",
    "\n",
    "predGroups = []\n",
    "for group_name, df_group in df:\n",
    "    predGroup = PredGroup()\n",
    "    predGroup.x = df_group.iloc[:, df_group.columns.get_loc(xKey)].values.reshape(-1, 1)\n",
    "    predGroup.y = df_group.iloc[:, df_group.columns.get_loc(yKey)].values.reshape(-1, 1)\n",
    "    predGroup.group_name = group_name\n",
    "\n",
    "    linear_regressor = LinearRegression()\n",
    "    linear_regressor.fit(predGroup.x, predGroup.y)\n",
    "    predGroup.pred_y = linear_regressor.predict(predGroup.x)\n",
    "\n",
    "    predGroups.append(predGroup)\n",
    "    # deaths_X = df.iloc[:, df.columns.get_loc(xKey)].values.reshape(-1, 1)\n",
    "    # corr_Y = df.iloc[:, df.columns.get_loc(yKey)].values.reshape(-1, 1)\n",
    "\n",
    "\n",
    "# linear_regressor = LinearRegression()\n",
    "# linear_regressor.fit(deaths_X, corr_Y)\n",
    "# Y_pred = linear_regressor.predict(deaths_X)"
   ]
  },
  {
   "cell_type": "code",
   "execution_count": 162,
   "metadata": {},
   "outputs": [
    {
     "name": "stdout",
     "output_type": "stream",
     "text": [
      "Albania\n",
      "Austria\n",
      "Belarus\n",
      "Belgium\n",
      "Bosnia and Herzegovina\n",
      "Bulgaria\n",
      "Croatia\n",
      "Cyprus\n",
      "Czech Republic\n",
      "Denmark\n",
      "Estonia\n",
      "Finland\n",
      "France\n",
      "Germany\n",
      "Greece\n",
      "Hungary\n",
      "Iceland\n",
      "Ireland\n",
      "Italy\n",
      "Latvia\n",
      "Lithuania\n",
      "Luxembourg\n",
      "Macedonia\n",
      "Malta\n",
      "Moldova\n",
      "Montenegro\n",
      "Netherlands\n",
      "Norway\n",
      "Poland\n",
      "Portugal\n",
      "Romania\n",
      "Russia\n",
      "Serbia\n",
      "Slovakia\n",
      "Slovenia\n",
      "Spain\n",
      "Sweden\n",
      "Switzerland\n",
      "Ukraine\n",
      "United Kingdom\n"
     ]
    }
   ],
   "source": [
    "for index, predGroup in enumerate(predGroups):\n",
    "    print(predGroup.group_name)\n",
    "    f = plt.figure(facecolor='white')\n",
    "    plt.scatter(predGroup.x, predGroup.y)\n",
    "    plt.plot(predGroup.x, predGroup.pred_y, color = \"pink\")\n",
    "    plt.xlabel(xKey)\n",
    "    plt.ylabel(yKey)\n",
    "    plt.title(predGroup.group_name)\n",
    "    loc = \"./regression_plots/\"\n",
    "    plt.savefig(loc+xKey+\"_\"+yKey+\"_\"+predGroup.group_name+\".png\")\n",
    "    f.clear()\n",
    "    plt.close(f)"
   ]
  }
 ],
 "metadata": {
  "interpreter": {
   "hash": "b3ba2566441a7c06988d0923437866b63cedc61552a5af99d1f4fb67d367b25f"
  },
  "kernelspec": {
   "display_name": "Python 3.8.8 ('base')",
   "language": "python",
   "name": "python3"
  },
  "language_info": {
   "codemirror_mode": {
    "name": "ipython",
    "version": 3
   },
   "file_extension": ".py",
   "mimetype": "text/x-python",
   "name": "python",
   "nbconvert_exporter": "python",
   "pygments_lexer": "ipython3",
   "version": "3.8.8"
  },
  "orig_nbformat": 4
 },
 "nbformat": 4,
 "nbformat_minor": 2
}
