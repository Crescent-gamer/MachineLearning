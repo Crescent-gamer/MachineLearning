{
 "cells": [
  {
   "cell_type": "code",
   "execution_count": 2,
   "metadata": {},
   "outputs": [],
   "source": [
    "import matplotlib.pyplot as plt\n",
    "import numpy as np\n",
    "from sklearn import datasets, linear_model\n",
    "from sklearn.metrics import mean_squared_error, r2_score\n",
    "import pandas as pd\n",
    "from sklearn.linear_model import LinearRegression"
   ]
  },
  {
   "cell_type": "code",
   "execution_count": 14,
   "metadata": {},
   "outputs": [
    {
     "name": "stdout",
     "output_type": "stream",
     "text": [
      "0           0\n",
      "1           0\n",
      "2           0\n",
      "3           1\n",
      "4           1\n",
      "         ... \n",
      "11284    4597\n",
      "11285    4690\n",
      "11286    4690\n",
      "11287    4887\n",
      "11288    4972\n",
      "Name: total_deaths, Length: 11289, dtype: int64\n"
     ]
    }
   ],
   "source": [
    "df = pd.read_csv(\"Case_PRB_Europe Only_true_Steven Testing_(dropped hospital beds na)_V0.6.csv\")\n",
    "# deaths_X = np.reshape(df[\"total_deaths\"], (-1, 1))\n",
    "# cases_Y = np.reshape(df[\"total_cases\"], (1, 1)\n",
    "# \n",
    "# total cases and total deaths\n",
    "# cases index: 9\n",
    "# deaths index: 12\n",
    "deaths_X = df.iloc[:, 12].values.reshape(-1, 1)\n",
    "cases_Y = df.iloc[:, 9].values.reshape(-1, 1)\n",
    "\n",
    "print(df.iloc[:, 12])"
   ]
  },
  {
   "cell_type": "code",
   "execution_count": 15,
   "metadata": {},
   "outputs": [],
   "source": [
    "linear_regressor = LinearRegression()\n",
    "linear_regressor.fit(deaths_X, cases_Y)\n",
    "Y_pred = linear_regressor.predict(deaths_X)"
   ]
  },
  {
   "cell_type": "code",
   "execution_count": 16,
   "metadata": {},
   "outputs": [
    {
     "data": {
      "image/png": "[encoded data removed]",
      "text/plain": [
       "<Figure size 432x288 with 1 Axes>"
      ]
     },
     "metadata": {
      "needs_background": "light"
     },
     "output_type": "display_data"
    }
   ],
   "source": [
    "plt.scatter(deaths_X, cases_Y)\n",
    "plt.plot(deaths_X, Y_pred, color=\"pink\")\n",
    "plt.show()"
   ]
  }
 ],
 "metadata": {
  "interpreter": {
   "hash": "b3ba2566441a7c06988d0923437866b63cedc61552a5af99d1f4fb67d367b25f"
  },
  "kernelspec": {
   "display_name": "Python 3.8.8 64-bit ('base': conda)",
   "language": "python",
   "name": "python3"
  },
  "language_info": {
   "codemirror_mode": {
    "name": "ipython",
    "version": 3
   },
   "file_extension": ".py",
   "mimetype": "text/x-python",
   "name": "python",
   "nbconvert_exporter": "python",
   "pygments_lexer": "ipython3",
   "version": "3.8.8"
  },
  "orig_nbformat": 4
 },
 "nbformat": 4,
 "nbformat_minor": 2
}
