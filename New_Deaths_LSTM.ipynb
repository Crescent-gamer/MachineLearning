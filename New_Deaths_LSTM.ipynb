{
 "cells": [
  {
   "cell_type": "code",
   "execution_count": 99,
   "metadata": {},
   "outputs": [],
   "source": [
    "import keras\n",
    "import numpy as np\n",
    "import pandas as pd\n",
    "import tensorflow as tf\n",
    "import plotly.graph_objects as go\n",
    "from keras.models import Sequential\n",
    "from keras.layers import LSTM, Dense\n",
    "from keras.preprocessing.sequence import TimeseriesGenerator"
   ]
  },
  {
   "cell_type": "code",
   "execution_count": 100,
   "metadata": {},
   "outputs": [
    {
     "name": "stdout",
     "output_type": "stream",
     "text": [
      "<class 'pandas.core.frame.DataFrame'>\n",
      "RangeIndex: 10498 entries, 0 to 10497\n",
      "Columns: 188 entries, Unnamed: 0 to day_int.1\n",
      "dtypes: float64(15), int64(169), object(4)\n",
      "memory usage: 15.1+ MB\n",
      "None\n"
     ]
    }
   ],
   "source": [
    "filename = \"Case_PRB_Europe_Only_true_Steven_Testing_Berat told me to_V0.17.csv\"\n",
    "df = pd.read_csv(filename)\n",
    "\n",
    "look_back = 15\n",
    "print(df.info())\n",
    "df = df.groupby(\"location\")\n",
    "df = df.get_group(\"Ukraine\")"
   ]
  },
  {
   "cell_type": "code",
   "execution_count": 101,
   "metadata": {},
   "outputs": [],
   "source": [
    "df[\"date\"] = pd.to_datetime(df[\"date\"], infer_datetime_format=True)\n",
    "df.set_axis(df[\"date\"], inplace = True)"
   ]
  },
  {
   "cell_type": "code",
   "execution_count": 102,
   "metadata": {},
   "outputs": [
    {
     "name": "stdout",
     "output_type": "stream",
     "text": [
      "174\n",
      "44\n"
     ]
    }
   ],
   "source": [
    "death_data = df[\"total_deaths\"].values\n",
    "death_data = death_data.reshape((-1, 1))\n",
    "\n",
    "split_percent = 0.80\n",
    "split = int(split_percent*len(death_data))\n",
    "\n",
    "death_train = death_data[:split]\n",
    "death_test = death_data[split:]\n",
    "\n",
    "date_train = df[\"date\"][:split]\n",
    "date_test = df[\"date\"][split:]\n",
    "\n",
    "# print(death_data)\n",
    "print(len(death_train))\n",
    "print(len(death_test))"
   ]
  },
  {
   "cell_type": "code",
   "execution_count": 103,
   "metadata": {},
   "outputs": [],
   "source": [
    "train_generator = TimeseriesGenerator(death_train, death_train, length=look_back, batch_size=20)\n",
    "test_generator = TimeseriesGenerator(death_test, death_test, length=look_back, batch_size=1)"
   ]
  },
  {
   "cell_type": "code",
   "execution_count": 104,
   "metadata": {},
   "outputs": [
    {
     "name": "stderr",
     "output_type": "stream",
     "text": [
      "<ipython-input-104-bb28ecbc2d44>:20: UserWarning:\n",
      "\n",
      "`Model.fit_generator` is deprecated and will be removed in a future version. Please use `Model.fit`, which supports generators.\n",
      "\n"
     ]
    },
    {
     "name": "stdout",
     "output_type": "stream",
     "text": [
      "Epoch 1/25\n",
      "8/8 [==============================] - 4s 24ms/step - loss: 3094358.2500\n",
      "Epoch 2/25\n",
      "8/8 [==============================] - 0s 20ms/step - loss: 1824545.7500\n",
      "Epoch 3/25\n",
      "8/8 [==============================] - 0s 18ms/step - loss: 1648825.3750\n",
      "Epoch 4/25\n",
      "8/8 [==============================] - 0s 19ms/step - loss: 1502409.6250\n",
      "Epoch 5/25\n",
      "8/8 [==============================] - 0s 25ms/step - loss: 1392084.3750\n",
      "Epoch 6/25\n",
      "8/8 [==============================] - 0s 23ms/step - loss: 1149092.0000\n",
      "Epoch 7/25\n",
      "8/8 [==============================] - 0s 21ms/step - loss: 3704723.2500\n",
      "Epoch 8/25\n",
      "8/8 [==============================] - 0s 16ms/step - loss: 3666285.0000\n",
      "Epoch 9/25\n",
      "8/8 [==============================] - 0s 20ms/step - loss: 2517235.0000\n",
      "Epoch 10/25\n",
      "8/8 [==============================] - 0s 19ms/step - loss: 2022278.6250\n",
      "Epoch 11/25\n",
      "8/8 [==============================] - 0s 18ms/step - loss: 1798629.3750\n",
      "Epoch 12/25\n",
      "8/8 [==============================] - 0s 17ms/step - loss: 1130088.5000\n",
      "Epoch 13/25\n",
      "8/8 [==============================] - 0s 39ms/step - loss: 695383.3750\n",
      "Epoch 14/25\n",
      "8/8 [==============================] - 0s 27ms/step - loss: 350437.3750\n",
      "Epoch 15/25\n",
      "8/8 [==============================] - 0s 20ms/step - loss: 48561.4609\n",
      "Epoch 16/25\n",
      "8/8 [==============================] - 0s 25ms/step - loss: 196495.5938\n",
      "Epoch 17/25\n",
      "8/8 [==============================] - 0s 16ms/step - loss: 31925.3965\n",
      "Epoch 18/25\n",
      "8/8 [==============================] - 0s 19ms/step - loss: 21255.4395\n",
      "Epoch 19/25\n",
      "8/8 [==============================] - 0s 18ms/step - loss: 25589.1055\n",
      "Epoch 20/25\n",
      "8/8 [==============================] - 0s 17ms/step - loss: 14628.6494\n",
      "Epoch 21/25\n",
      "8/8 [==============================] - 0s 19ms/step - loss: 15408.9121\n",
      "Epoch 22/25\n",
      "8/8 [==============================] - 0s 38ms/step - loss: 16214.3203\n",
      "Epoch 23/25\n",
      "8/8 [==============================] - 0s 22ms/step - loss: 104829.5703\n",
      "Epoch 24/25\n",
      "8/8 [==============================] - 0s 18ms/step - loss: 234558.4375\n",
      "Epoch 25/25\n",
      "8/8 [==============================] - 0s 27ms/step - loss: 102675.9219\n"
     ]
    },
    {
     "data": {
      "text/plain": [
       "<keras.callbacks.History at 0x188b75ef400>"
      ]
     },
     "execution_count": 104,
     "metadata": {},
     "output_type": "execute_result"
    }
   ],
   "source": [
    "model = Sequential()\n",
    "\n",
    "model.add(\n",
    "    LSTM(\n",
    "        64,\n",
    "        activation = \"relu\",\n",
    "        input_shape = (look_back, 1)\n",
    "    )\n",
    ")\n",
    "# model.add(\n",
    "#     LSTM(\n",
    "#         128,\n",
    "#         activation = \"relu\"\n",
    "#     )\n",
    "# )\n",
    "model.add(Dense(1))\n",
    "model.compile(optimizer = \"adam\", loss=\"mse\")\n",
    "\n",
    "num_epochs = 25\n",
    "model.fit_generator(train_generator, epochs = num_epochs, verbose = 1)"
   ]
  },
  {
   "cell_type": "code",
   "execution_count": 105,
   "metadata": {},
   "outputs": [
    {
     "data": {
      "application/vnd.plotly.v1+json": {
       "config": {
        "plotlyServerURL": "https://plot.ly"
       },
       "data": [
        {
         "mode": "lines",
         "name": "Data",
         "type": "scatter",
         "x": [
          "2020-04-03T00:00:00",
          "2020-10-03T00:00:00",
          "2020-11-03T00:00:00",
          "2020-12-03T00:00:00",
          "2020-03-13T00:00:00",
          "2020-03-14T00:00:00",
          "2020-03-15T00:00:00",
          "2020-03-16T00:00:00",
          "2020-03-17T00:00:00",
          "2020-03-18T00:00:00",
          "2020-03-19T00:00:00",
          "2020-03-20T00:00:00",
          "2020-03-21T00:00:00",
          "2020-03-22T00:00:00",
          "2020-03-23T00:00:00",
          "2020-03-24T00:00:00",
          "2020-03-25T00:00:00",
          "2020-03-26T00:00:00",
          "2020-03-27T00:00:00",
          "2020-03-28T00:00:00",
          "2020-03-29T00:00:00",
          "2020-03-30T00:00:00",
          "2020-03-31T00:00:00",
          "2020-01-04T00:00:00",
          "2020-02-04T00:00:00",
          "2020-03-04T00:00:00",
          "2020-04-04T00:00:00",
          "2020-05-04T00:00:00",
          "2020-06-04T00:00:00",
          "2020-07-04T00:00:00",
          "2020-08-04T00:00:00",
          "2020-09-04T00:00:00",
          "2020-10-04T00:00:00",
          "2020-11-04T00:00:00",
          "2020-12-04T00:00:00",
          "2020-04-13T00:00:00",
          "2020-04-14T00:00:00",
          "2020-04-15T00:00:00",
          "2020-04-16T00:00:00",
          "2020-04-17T00:00:00",
          "2020-04-18T00:00:00",
          "2020-04-19T00:00:00",
          "2020-04-20T00:00:00",
          "2020-04-21T00:00:00",
          "2020-04-22T00:00:00",
          "2020-04-23T00:00:00",
          "2020-04-24T00:00:00",
          "2020-04-25T00:00:00",
          "2020-04-26T00:00:00",
          "2020-04-27T00:00:00",
          "2020-04-28T00:00:00",
          "2020-04-29T00:00:00",
          "2020-04-30T00:00:00",
          "2020-01-05T00:00:00",
          "2020-02-05T00:00:00",
          "2020-03-05T00:00:00",
          "2020-04-05T00:00:00",
          "2020-05-05T00:00:00",
          "2020-06-05T00:00:00",
          "2020-07-05T00:00:00",
          "2020-08-05T00:00:00",
          "2020-09-05T00:00:00",
          "2020-10-05T00:00:00",
          "2020-11-05T00:00:00",
          "2020-12-05T00:00:00",
          "2020-05-13T00:00:00",
          "2020-05-14T00:00:00",
          "2020-05-15T00:00:00",
          "2020-05-16T00:00:00",
          "2020-05-17T00:00:00",
          "2020-05-18T00:00:00",
          "2020-05-19T00:00:00",
          "2020-05-20T00:00:00",
          "2020-05-21T00:00:00",
          "2020-05-22T00:00:00",
          "2020-05-23T00:00:00",
          "2020-05-24T00:00:00",
          "2020-05-25T00:00:00",
          "2020-05-26T00:00:00",
          "2020-05-27T00:00:00",
          "2020-05-28T00:00:00",
          "2020-05-29T00:00:00",
          "2020-05-30T00:00:00",
          "2020-05-31T00:00:00",
          "2020-01-06T00:00:00",
          "2020-02-06T00:00:00",
          "2020-03-06T00:00:00",
          "2020-04-06T00:00:00",
          "2020-05-06T00:00:00",
          "2020-06-06T00:00:00",
          "2020-07-06T00:00:00",
          "2020-08-06T00:00:00",
          "2020-09-06T00:00:00",
          "2020-10-06T00:00:00",
          "2020-11-06T00:00:00",
          "2020-12-06T00:00:00",
          "2020-06-13T00:00:00",
          "2020-06-14T00:00:00",
          "2020-06-15T00:00:00",
          "2020-06-16T00:00:00",
          "2020-06-17T00:00:00",
          "2020-06-18T00:00:00",
          "2020-06-19T00:00:00",
          "2020-06-20T00:00:00",
          "2020-06-21T00:00:00",
          "2020-06-22T00:00:00",
          "2020-06-23T00:00:00",
          "2020-06-24T00:00:00",
          "2020-06-25T00:00:00",
          "2020-06-26T00:00:00",
          "2020-06-27T00:00:00",
          "2020-06-28T00:00:00",
          "2020-06-29T00:00:00",
          "2020-06-30T00:00:00",
          "2020-01-07T00:00:00",
          "2020-02-07T00:00:00",
          "2020-03-07T00:00:00",
          "2020-04-07T00:00:00",
          "2020-05-07T00:00:00",
          "2020-06-07T00:00:00",
          "2020-07-07T00:00:00",
          "2020-08-07T00:00:00",
          "2020-09-07T00:00:00",
          "2020-10-07T00:00:00",
          "2020-11-07T00:00:00",
          "2020-12-07T00:00:00",
          "2020-07-13T00:00:00",
          "2020-07-14T00:00:00",
          "2020-07-15T00:00:00",
          "2020-07-16T00:00:00",
          "2020-07-17T00:00:00",
          "2020-07-18T00:00:00",
          "2020-07-19T00:00:00",
          "2020-07-20T00:00:00",
          "2020-07-21T00:00:00",
          "2020-07-22T00:00:00",
          "2020-07-23T00:00:00",
          "2020-07-24T00:00:00",
          "2020-07-25T00:00:00",
          "2020-07-26T00:00:00",
          "2020-07-27T00:00:00",
          "2020-07-28T00:00:00",
          "2020-07-29T00:00:00",
          "2020-07-30T00:00:00",
          "2020-07-31T00:00:00",
          "2020-01-08T00:00:00",
          "2020-02-08T00:00:00",
          "2020-03-08T00:00:00",
          "2020-04-08T00:00:00",
          "2020-05-08T00:00:00",
          "2020-06-08T00:00:00",
          "2020-07-08T00:00:00",
          "2020-08-08T00:00:00",
          "2020-09-08T00:00:00",
          "2020-10-08T00:00:00",
          "2020-11-08T00:00:00",
          "2020-12-08T00:00:00",
          "2020-08-13T00:00:00",
          "2020-08-14T00:00:00",
          "2020-08-15T00:00:00",
          "2020-08-16T00:00:00",
          "2020-08-17T00:00:00",
          "2020-08-18T00:00:00",
          "2020-08-19T00:00:00",
          "2020-08-20T00:00:00",
          "2020-08-21T00:00:00",
          "2020-08-22T00:00:00",
          "2020-08-23T00:00:00",
          "2020-08-24T00:00:00",
          "2020-08-25T00:00:00",
          "2020-08-26T00:00:00",
          "2020-08-27T00:00:00",
          "2020-08-28T00:00:00",
          "2020-08-29T00:00:00"
         ],
         "y": [
          0,
          0,
          0,
          0,
          0,
          0,
          0,
          0,
          0,
          0,
          2,
          2,
          3,
          3,
          3,
          3,
          3,
          4,
          5,
          5,
          8,
          9,
          11,
          13,
          20,
          22,
          27,
          32,
          37,
          38,
          45,
          52,
          57,
          69,
          73,
          83,
          93,
          98,
          108,
          116,
          125,
          133,
          141,
          151,
          161,
          174,
          187,
          193,
          201,
          209,
          220,
          239,
          250,
          261,
          272,
          279,
          288,
          303,
          316,
          327,
          340,
          361,
          376,
          391,
          408,
          425,
          439,
          456,
          476,
          497,
          514,
          535,
          548,
          564,
          579,
          588,
          605,
          617,
          623,
          644,
          658,
          669,
          679,
          696,
          708,
          718,
          727,
          735,
          747,
          762,
          777,
          788,
          797,
          810,
          833,
          854,
          870,
          880,
          889,
          901,
          912,
          943,
          966,
          985,
          994,
          1002,
          1012,
          1035,
          1051,
          1067,
          1086,
          1110,
          1129,
          1147,
          1159,
          1173,
          1185,
          1212,
          1227,
          1249,
          1262,
          1283,
          1306,
          1327,
          1345,
          1372,
          1383,
          1398,
          1412,
          1427,
          1445,
          1456,
          1477,
          1485,
          1498,
          1518,
          1534,
          1551,
          1571,
          1590,
          1605,
          1616,
          1629,
          1650,
          1673,
          1693,
          1709,
          1725,
          1738,
          1764,
          1788,
          1819,
          1852,
          1879,
          1922,
          1951,
          1970,
          1992,
          2011,
          2011,
          2044,
          2089,
          2116,
          2116,
          2144,
          2184,
          2207,
          2244,
          2271,
          2293,
          2318,
          2403,
          2403,
          2438
         ]
        },
        {
         "mode": "lines",
         "name": "Prediction",
         "type": "scatter",
         "x": [
          "2020-08-30T00:00:00",
          "2020-08-31T00:00:00",
          "2020-01-09T00:00:00",
          "2020-02-09T00:00:00",
          "2020-03-09T00:00:00",
          "2020-04-09T00:00:00",
          "2020-05-09T00:00:00",
          "2020-06-09T00:00:00",
          "2020-07-09T00:00:00",
          "2020-08-09T00:00:00",
          "2020-09-09T00:00:00",
          "2020-10-09T00:00:00",
          "2020-11-09T00:00:00",
          "2020-12-09T00:00:00",
          "2020-09-13T00:00:00",
          "2020-09-14T00:00:00",
          "2020-09-15T00:00:00",
          "2020-09-16T00:00:00",
          "2020-09-17T00:00:00",
          "2020-09-18T00:00:00",
          "2020-09-19T00:00:00",
          "2020-09-20T00:00:00",
          "2020-09-21T00:00:00",
          "2020-09-22T00:00:00",
          "2020-09-23T00:00:00",
          "2020-09-24T00:00:00",
          "2020-09-25T00:00:00",
          "2020-09-26T00:00:00",
          "2020-09-27T00:00:00",
          "2020-09-28T00:00:00",
          "2020-09-29T00:00:00",
          "2020-09-30T00:00:00",
          "2020-01-10T00:00:00",
          "2020-02-10T00:00:00",
          "2020-03-10T00:00:00",
          "2020-04-10T00:00:00",
          "2020-05-10T00:00:00",
          "2020-06-10T00:00:00",
          "2020-07-10T00:00:00",
          "2020-08-10T00:00:00",
          "2020-09-10T00:00:00",
          "2020-10-10T00:00:00",
          "2020-11-10T00:00:00",
          "2020-12-10T00:00:00"
         ],
         "y": [
          2990.05224609375,
          3031.684814453125,
          3078.651123046875,
          3144.5478515625,
          3192.246826171875,
          3264.3896484375,
          3296.492919921875,
          3352.977294921875,
          3407.59130859375,
          3471.8798828125,
          3569.110595703125,
          3583.253173828125,
          3636.138916015625,
          3687.584228515625,
          3749.007568359375,
          3815.48095703125,
          3878.752685546875,
          3950.473388671875,
          3999.966064453125,
          4061.064208984375,
          4120.50341796875,
          4176.2822265625,
          4232.89990234375,
          4291.5205078125,
          4362.3828125,
          4435.548828125,
          4505.61328125,
          4577.75732421875,
          4649.31396484375
         ]
        },
        {
         "mode": "lines",
         "name": "Ground Truth",
         "type": "scatter",
         "x": [
          "2020-08-30T00:00:00",
          "2020-08-31T00:00:00",
          "2020-01-09T00:00:00",
          "2020-02-09T00:00:00",
          "2020-03-09T00:00:00",
          "2020-04-09T00:00:00",
          "2020-05-09T00:00:00",
          "2020-06-09T00:00:00",
          "2020-07-09T00:00:00",
          "2020-08-09T00:00:00",
          "2020-09-09T00:00:00",
          "2020-10-09T00:00:00",
          "2020-11-09T00:00:00",
          "2020-12-09T00:00:00",
          "2020-09-13T00:00:00",
          "2020-09-14T00:00:00",
          "2020-09-15T00:00:00",
          "2020-09-16T00:00:00",
          "2020-09-17T00:00:00",
          "2020-09-18T00:00:00",
          "2020-09-19T00:00:00",
          "2020-09-20T00:00:00",
          "2020-09-21T00:00:00",
          "2020-09-22T00:00:00",
          "2020-09-23T00:00:00",
          "2020-09-24T00:00:00",
          "2020-09-25T00:00:00",
          "2020-09-26T00:00:00",
          "2020-09-27T00:00:00",
          "2020-09-28T00:00:00",
          "2020-09-29T00:00:00",
          "2020-09-30T00:00:00",
          "2020-01-10T00:00:00",
          "2020-02-10T00:00:00",
          "2020-03-10T00:00:00",
          "2020-04-10T00:00:00",
          "2020-05-10T00:00:00",
          "2020-06-10T00:00:00",
          "2020-07-10T00:00:00",
          "2020-08-10T00:00:00",
          "2020-09-10T00:00:00",
          "2020-10-10T00:00:00",
          "2020-11-10T00:00:00",
          "2020-12-10T00:00:00"
         ],
         "y": [
          2492,
          2527,
          2557,
          2605,
          2656,
          2710,
          2723,
          2811,
          2811,
          2877,
          2979,
          2979,
          3076,
          3076,
          3103,
          3178,
          3211,
          3340,
          3340,
          3400,
          3468,
          3516,
          3557,
          3583,
          3642,
          3705,
          3757,
          3827,
          3903,
          3959,
          3996,
          4065,
          4129,
          4193,
          4261,
          4353,
          4397,
          4430,
          4520,
          4597,
          4690,
          4690,
          4887,
          4972
         ]
        }
       ],
       "layout": {
        "template": {
         "data": {
          "bar": [
           {
            "error_x": {
             "color": "#2a3f5f"
            },
            "error_y": {
             "color": "#2a3f5f"
            },
            "marker": {
             "line": {
              "color": "#E5ECF6",
              "width": 0.5
             },
             "pattern": {
              "fillmode": "overlay",
              "size": 10,
              "solidity": 0.2
             }
            },
            "type": "bar"
           }
          ],
          "barpolar": [
           {
            "marker": {
             "line": {
              "color": "#E5ECF6",
              "width": 0.5
             },
             "pattern": {
              "fillmode": "overlay",
              "size": 10,
              "solidity": 0.2
             }
            },
            "type": "barpolar"
           }
          ],
          "carpet": [
           {
            "aaxis": {
             "endlinecolor": "#2a3f5f",
             "gridcolor": "white",
             "linecolor": "white",
             "minorgridcolor": "white",
             "startlinecolor": "#2a3f5f"
            },
            "baxis": {
             "endlinecolor": "#2a3f5f",
             "gridcolor": "white",
             "linecolor": "white",
             "minorgridcolor": "white",
             "startlinecolor": "#2a3f5f"
            },
            "type": "carpet"
           }
          ],
          "choropleth": [
           {
            "colorbar": {
             "outlinewidth": 0,
             "ticks": ""
            },
            "type": "choropleth"
           }
          ],
          "contour": [
           {
            "colorbar": {
             "outlinewidth": 0,
             "ticks": ""
            },
            "colorscale": [
             [
              0,
              "#0d0887"
             ],
             [
              0.1111111111111111,
              "#46039f"
             ],
             [
              0.2222222222222222,
              "#7201a8"
             ],
             [
              0.3333333333333333,
              "#9c179e"
             ],
             [
              0.4444444444444444,
              "#bd3786"
             ],
             [
              0.5555555555555556,
              "#d8576b"
             ],
             [
              0.6666666666666666,
              "#ed7953"
             ],
             [
              0.7777777777777778,
              "#fb9f3a"
             ],
             [
              0.8888888888888888,
              "#fdca26"
             ],
             [
              1,
              "#f0f921"
             ]
            ],
            "type": "contour"
           }
          ],
          "contourcarpet": [
           {
            "colorbar": {
             "outlinewidth": 0,
             "ticks": ""
            },
            "type": "contourcarpet"
           }
          ],
          "heatmap": [
           {
            "colorbar": {
             "outlinewidth": 0,
             "ticks": ""
            },
            "colorscale": [
             [
              0,
              "#0d0887"
             ],
             [
              0.1111111111111111,
              "#46039f"
             ],
             [
              0.2222222222222222,
              "#7201a8"
             ],
             [
              0.3333333333333333,
              "#9c179e"
             ],
             [
              0.4444444444444444,
              "#bd3786"
             ],
             [
              0.5555555555555556,
              "#d8576b"
             ],
             [
              0.6666666666666666,
              "#ed7953"
             ],
             [
              0.7777777777777778,
              "#fb9f3a"
             ],
             [
              0.8888888888888888,
              "#fdca26"
             ],
             [
              1,
              "#f0f921"
             ]
            ],
            "type": "heatmap"
           }
          ],
          "heatmapgl": [
           {
            "colorbar": {
             "outlinewidth": 0,
             "ticks": ""
            },
            "colorscale": [
             [
              0,
              "#0d0887"
             ],
             [
              0.1111111111111111,
              "#46039f"
             ],
             [
              0.2222222222222222,
              "#7201a8"
             ],
             [
              0.3333333333333333,
              "#9c179e"
             ],
             [
              0.4444444444444444,
              "#bd3786"
             ],
             [
              0.5555555555555556,
              "#d8576b"
             ],
             [
              0.6666666666666666,
              "#ed7953"
             ],
             [
              0.7777777777777778,
              "#fb9f3a"
             ],
             [
              0.8888888888888888,
              "#fdca26"
             ],
             [
              1,
              "#f0f921"
             ]
            ],
            "type": "heatmapgl"
           }
          ],
          "histogram": [
           {
            "marker": {
             "pattern": {
              "fillmode": "overlay",
              "size": 10,
              "solidity": 0.2
             }
            },
            "type": "histogram"
           }
          ],
          "histogram2d": [
           {
            "colorbar": {
             "outlinewidth": 0,
             "ticks": ""
            },
            "colorscale": [
             [
              0,
              "#0d0887"
             ],
             [
              0.1111111111111111,
              "#46039f"
             ],
             [
              0.2222222222222222,
              "#7201a8"
             ],
             [
              0.3333333333333333,
              "#9c179e"
             ],
             [
              0.4444444444444444,
              "#bd3786"
             ],
             [
              0.5555555555555556,
              "#d8576b"
             ],
             [
              0.6666666666666666,
              "#ed7953"
             ],
             [
              0.7777777777777778,
              "#fb9f3a"
             ],
             [
              0.8888888888888888,
              "#fdca26"
             ],
             [
              1,
              "#f0f921"
             ]
            ],
            "type": "histogram2d"
           }
          ],
          "histogram2dcontour": [
           {
            "colorbar": {
             "outlinewidth": 0,
             "ticks": ""
            },
            "colorscale": [
             [
              0,
              "#0d0887"
             ],
             [
              0.1111111111111111,
              "#46039f"
             ],
             [
              0.2222222222222222,
              "#7201a8"
             ],
             [
              0.3333333333333333,
              "#9c179e"
             ],
             [
              0.4444444444444444,
              "#bd3786"
             ],
             [
              0.5555555555555556,
              "#d8576b"
             ],
             [
              0.6666666666666666,
              "#ed7953"
             ],
             [
              0.7777777777777778,
              "#fb9f3a"
             ],
             [
              0.8888888888888888,
              "#fdca26"
             ],
             [
              1,
              "#f0f921"
             ]
            ],
            "type": "histogram2dcontour"
           }
          ],
          "mesh3d": [
           {
            "colorbar": {
             "outlinewidth": 0,
             "ticks": ""
            },
            "type": "mesh3d"
           }
          ],
          "parcoords": [
           {
            "line": {
             "colorbar": {
              "outlinewidth": 0,
              "ticks": ""
             }
            },
            "type": "parcoords"
           }
          ],
          "pie": [
           {
            "automargin": true,
            "type": "pie"
           }
          ],
          "scatter": [
           {
            "marker": {
             "colorbar": {
              "outlinewidth": 0,
              "ticks": ""
             }
            },
            "type": "scatter"
           }
          ],
          "scatter3d": [
           {
            "line": {
             "colorbar": {
              "outlinewidth": 0,
              "ticks": ""
             }
            },
            "marker": {
             "colorbar": {
              "outlinewidth": 0,
              "ticks": ""
             }
            },
            "type": "scatter3d"
           }
          ],
          "scattercarpet": [
           {
            "marker": {
             "colorbar": {
              "outlinewidth": 0,
              "ticks": ""
             }
            },
            "type": "scattercarpet"
           }
          ],
          "scattergeo": [
           {
            "marker": {
             "colorbar": {
              "outlinewidth": 0,
              "ticks": ""
             }
            },
            "type": "scattergeo"
           }
          ],
          "scattergl": [
           {
            "marker": {
             "colorbar": {
              "outlinewidth": 0,
              "ticks": ""
             }
            },
            "type": "scattergl"
           }
          ],
          "scattermapbox": [
           {
            "marker": {
             "colorbar": {
              "outlinewidth": 0,
              "ticks": ""
             }
            },
            "type": "scattermapbox"
           }
          ],
          "scatterpolar": [
           {
            "marker": {
             "colorbar": {
              "outlinewidth": 0,
              "ticks": ""
             }
            },
            "type": "scatterpolar"
           }
          ],
          "scatterpolargl": [
           {
            "marker": {
             "colorbar": {
              "outlinewidth": 0,
              "ticks": ""
             }
            },
            "type": "scatterpolargl"
           }
          ],
          "scatterternary": [
           {
            "marker": {
             "colorbar": {
              "outlinewidth": 0,
              "ticks": ""
             }
            },
            "type": "scatterternary"
           }
          ],
          "surface": [
           {
            "colorbar": {
             "outlinewidth": 0,
             "ticks": ""
            },
            "colorscale": [
             [
              0,
              "#0d0887"
             ],
             [
              0.1111111111111111,
              "#46039f"
             ],
             [
              0.2222222222222222,
              "#7201a8"
             ],
             [
              0.3333333333333333,
              "#9c179e"
             ],
             [
              0.4444444444444444,
              "#bd3786"
             ],
             [
              0.5555555555555556,
              "#d8576b"
             ],
             [
              0.6666666666666666,
              "#ed7953"
             ],
             [
              0.7777777777777778,
              "#fb9f3a"
             ],
             [
              0.8888888888888888,
              "#fdca26"
             ],
             [
              1,
              "#f0f921"
             ]
            ],
            "type": "surface"
           }
          ],
          "table": [
           {
            "cells": {
             "fill": {
              "color": "#EBF0F8"
             },
             "line": {
              "color": "white"
             }
            },
            "header": {
             "fill": {
              "color": "#C8D4E3"
             },
             "line": {
              "color": "white"
             }
            },
            "type": "table"
           }
          ]
         },
         "layout": {
          "annotationdefaults": {
           "arrowcolor": "#2a3f5f",
           "arrowhead": 0,
           "arrowwidth": 1
          },
          "autotypenumbers": "strict",
          "coloraxis": {
           "colorbar": {
            "outlinewidth": 0,
            "ticks": ""
           }
          },
          "colorscale": {
           "diverging": [
            [
             0,
             "#8e0152"
            ],
            [
             0.1,
             "#c51b7d"
            ],
            [
             0.2,
             "#de77ae"
            ],
            [
             0.3,
             "#f1b6da"
            ],
            [
             0.4,
             "#fde0ef"
            ],
            [
             0.5,
             "#f7f7f7"
            ],
            [
             0.6,
             "#e6f5d0"
            ],
            [
             0.7,
             "#b8e186"
            ],
            [
             0.8,
             "#7fbc41"
            ],
            [
             0.9,
             "#4d9221"
            ],
            [
             1,
             "#276419"
            ]
           ],
           "sequential": [
            [
             0,
             "#0d0887"
            ],
            [
             0.1111111111111111,
             "#46039f"
            ],
            [
             0.2222222222222222,
             "#7201a8"
            ],
            [
             0.3333333333333333,
             "#9c179e"
            ],
            [
             0.4444444444444444,
             "#bd3786"
            ],
            [
             0.5555555555555556,
             "#d8576b"
            ],
            [
             0.6666666666666666,
             "#ed7953"
            ],
            [
             0.7777777777777778,
             "#fb9f3a"
            ],
            [
             0.8888888888888888,
             "#fdca26"
            ],
            [
             1,
             "#f0f921"
            ]
           ],
           "sequentialminus": [
            [
             0,
             "#0d0887"
            ],
            [
             0.1111111111111111,
             "#46039f"
            ],
            [
             0.2222222222222222,
             "#7201a8"
            ],
            [
             0.3333333333333333,
             "#9c179e"
            ],
            [
             0.4444444444444444,
             "#bd3786"
            ],
            [
             0.5555555555555556,
             "#d8576b"
            ],
            [
             0.6666666666666666,
             "#ed7953"
            ],
            [
             0.7777777777777778,
             "#fb9f3a"
            ],
            [
             0.8888888888888888,
             "#fdca26"
            ],
            [
             1,
             "#f0f921"
            ]
           ]
          },
          "colorway": [
           "#636efa",
           "#EF553B",
           "#00cc96",
           "#ab63fa",
           "#FFA15A",
           "#19d3f3",
           "#FF6692",
           "#B6E880",
           "#FF97FF",
           "#FECB52"
          ],
          "font": {
           "color": "#2a3f5f"
          },
          "geo": {
           "bgcolor": "white",
           "lakecolor": "white",
           "landcolor": "#E5ECF6",
           "showlakes": true,
           "showland": true,
           "subunitcolor": "white"
          },
          "hoverlabel": {
           "align": "left"
          },
          "hovermode": "closest",
          "mapbox": {
           "style": "light"
          },
          "paper_bgcolor": "white",
          "plot_bgcolor": "#E5ECF6",
          "polar": {
           "angularaxis": {
            "gridcolor": "white",
            "linecolor": "white",
            "ticks": ""
           },
           "bgcolor": "#E5ECF6",
           "radialaxis": {
            "gridcolor": "white",
            "linecolor": "white",
            "ticks": ""
           }
          },
          "scene": {
           "xaxis": {
            "backgroundcolor": "#E5ECF6",
            "gridcolor": "white",
            "gridwidth": 2,
            "linecolor": "white",
            "showbackground": true,
            "ticks": "",
            "zerolinecolor": "white"
           },
           "yaxis": {
            "backgroundcolor": "#E5ECF6",
            "gridcolor": "white",
            "gridwidth": 2,
            "linecolor": "white",
            "showbackground": true,
            "ticks": "",
            "zerolinecolor": "white"
           },
           "zaxis": {
            "backgroundcolor": "#E5ECF6",
            "gridcolor": "white",
            "gridwidth": 2,
            "linecolor": "white",
            "showbackground": true,
            "ticks": "",
            "zerolinecolor": "white"
           }
          },
          "shapedefaults": {
           "line": {
            "color": "#2a3f5f"
           }
          },
          "ternary": {
           "aaxis": {
            "gridcolor": "white",
            "linecolor": "white",
            "ticks": ""
           },
           "baxis": {
            "gridcolor": "white",
            "linecolor": "white",
            "ticks": ""
           },
           "bgcolor": "#E5ECF6",
           "caxis": {
            "gridcolor": "white",
            "linecolor": "white",
            "ticks": ""
           }
          },
          "title": {
           "x": 0.05
          },
          "xaxis": {
           "automargin": true,
           "gridcolor": "white",
           "linecolor": "white",
           "ticks": "",
           "title": {
            "standoff": 15
           },
           "zerolinecolor": "white",
           "zerolinewidth": 2
          },
          "yaxis": {
           "automargin": true,
           "gridcolor": "white",
           "linecolor": "white",
           "ticks": "",
           "title": {
            "standoff": 15
           },
           "zerolinecolor": "white",
           "zerolinewidth": 2
          }
         }
        },
        "title": {
         "text": "Google Stock"
        },
        "xaxis": {
         "title": {
          "text": "Date"
         }
        },
        "yaxis": {
         "title": {
          "text": "Close"
         }
        }
       }
      }
     },
     "metadata": {},
     "output_type": "display_data"
    }
   ],
   "source": [
    "prediction = model.predict(test_generator)\n",
    "\n",
    "death_train = death_train.reshape((-1))\n",
    "death_test = death_test.reshape((-1))\n",
    "prediction = prediction.reshape((-1))\n",
    "\n",
    "# print(death_train)\n",
    "\n",
    "# trace1 = go.Scatter(\n",
    "#     x = date_train,\n",
    "#     y = death_train,\n",
    "#     mode = 'lines',\n",
    "#     name = 'Data'\n",
    "# )\n",
    "\n",
    "trace1 = go.Scatter(\n",
    "    x = date_train,\n",
    "    y = death_train,\n",
    "    mode = \"lines\",\n",
    "    name = \"Data\"\n",
    ")\n",
    "trace2 = go.Scatter(\n",
    "    x = date_test,\n",
    "    y = prediction,\n",
    "    mode = \"lines\",\n",
    "    name = \"Prediction\"\n",
    ")\n",
    "trace3 = go.Scatter(\n",
    "    x = date_test,\n",
    "    y = death_test,\n",
    "    mode=\"lines\",\n",
    "    name = \"Ground Truth\"\n",
    ")\n",
    "layout = go.Layout(\n",
    "    title = \"Google Stock\",\n",
    "    xaxis = {'title' : \"Date\"},\n",
    "    yaxis = {'title' : \"Close\"}\n",
    ")\n",
    "fig = go.Figure(data=[trace1, trace2, trace3], layout=layout)\n",
    "fig.show()"
   ]
  }
 ],
 "metadata": {
  "interpreter": {
   "hash": "b3ba2566441a7c06988d0923437866b63cedc61552a5af99d1f4fb67d367b25f"
  },
  "kernelspec": {
   "display_name": "Python 3.8.8 ('base')",
   "language": "python",
   "name": "python3"
  },
  "language_info": {
   "codemirror_mode": {
    "name": "ipython",
    "version": 3
   },
   "file_extension": ".py",
   "mimetype": "text/x-python",
   "name": "python",
   "nbconvert_exporter": "python",
   "pygments_lexer": "ipython3",
   "version": "3.8.8"
  },
  "orig_nbformat": 4
 },
 "nbformat": 4,
 "nbformat_minor": 2
}
