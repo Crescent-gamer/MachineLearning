{
 "cells": [
  {
   "cell_type": "code",
   "execution_count": 142,
   "metadata": {},
   "outputs": [],
   "source": [
    "import keras\n",
    "import numpy as np\n",
    "import pandas as pd\n",
    "import tensorflow as tf\n",
    "import plotly.graph_objects as go\n",
    "from keras.models import Sequential\n",
    "from keras.layers import LSTM, Dense, Dropout\n",
    "from keras.preprocessing.sequence import TimeseriesGenerator"
   ]
  },
  {
   "cell_type": "code",
   "execution_count": 143,
   "metadata": {},
   "outputs": [],
   "source": [
    "#Het inladen van de CSV bestand.\n",
    "filename = \"Case_PRB_Europe_Total_Deaths.csv\"\n",
    "df = pd.read_csv(filename)\n",
    "\n",
    "#De loop_back variabel dat aangeeft hoever het LSTM-model terug moet kijken tijdens\n",
    "look_back = 5"
   ]
  },
  {
   "cell_type": "code",
   "execution_count": 144,
   "metadata": {},
   "outputs": [],
   "source": [
    "#convert datetime string to datetime object\n",
    "#Assign index to date column\n",
    "df[\"date\"] = pd.to_datetime(df[\"date\"], infer_datetime_format=True)\n",
    "df.set_axis(df[\"date\"], inplace = True)"
   ]
  },
  {
   "cell_type": "code",
   "execution_count": 145,
   "metadata": {},
   "outputs": [],
   "source": [
    "#Het ophalen van de totale doden en het reshapen van de data\n",
    "death_data = df[\"total_deaths\"].values\n",
    "death_data = death_data.reshape((-1, 1))\n",
    "\n",
    "#Aangeven wat de splitsing van de data zal zijn\n",
    "#Een berekening waarbij er een int uit komt gebruikt zal worden om aan te geven vanaf welke index de data gesplits moet worden.\n",
    "split_percent = 0.80\n",
    "split = int(split_percent*len(death_data))\n",
    "\n",
    "#Het splitsen van de 'total_death' data met de voorheen berekende split variabel.\n",
    "death_train = death_data[:split]\n",
    "death_test = death_data[split:]\n",
    "\n",
    "#Het splitsen van de 'date' data met de voorheen berekende split variabel.\n",
    "date_train = df[\"date\"][:split]\n",
    "date_test = df[\"date\"][split:]"
   ]
  },
  {
   "cell_type": "code",
   "execution_count": 146,
   "metadata": {},
   "outputs": [],
   "source": [
    "#Het kleine setjes aan data van de dataset zodat deze één voor één in een sequence door het neuraal netwerk heen gevoerd kan worden.\n",
    "#bijvoorbeeld [1,2,3,4,5] -> [[1,2,3],[2,3,4],[3,4,5]]\n",
    "train_generator = TimeseriesGenerator(death_train, death_train, length=look_back, batch_size=20)\n",
    "test_generator = TimeseriesGenerator(death_test, death_test, length=look_back, batch_size=1)"
   ]
  },
  {
   "cell_type": "code",
   "execution_count": 147,
   "metadata": {},
   "outputs": [
    {
     "name": "stderr",
     "output_type": "stream",
     "text": [
      "C:\\Users\\Gebruiker\\AppData\\Local\\Temp\\ipykernel_8256\\214584793.py:9: UserWarning:\n",
      "\n",
      "`Model.fit_generator` is deprecated and will be removed in a future version. Please use `Model.fit`, which supports generators.\n",
      "\n"
     ]
    },
    {
     "name": "stdout",
     "output_type": "stream",
     "text": [
      "Epoch 1/30\n",
      "12/12 [==============================] - 1s 3ms/step - loss: 15061089280.0000 - accuracy: 0.1839\n",
      "Epoch 2/30\n",
      "12/12 [==============================] - 0s 5ms/step - loss: 13378637824.0000 - accuracy: 0.1839\n",
      "Epoch 3/30\n",
      "12/12 [==============================] - 0s 3ms/step - loss: 7807358976.0000 - accuracy: 0.1839\n",
      "Epoch 4/30\n",
      "12/12 [==============================] - 0s 4ms/step - loss: 2035812864.0000 - accuracy: 0.1839\n",
      "Epoch 5/30\n",
      "12/12 [==============================] - 0s 4ms/step - loss: 552113536.0000 - accuracy: 0.1839 \n",
      "Epoch 6/30\n",
      "12/12 [==============================] - 0s 4ms/step - loss: 894009408.0000 - accuracy: 0.1839\n",
      "Epoch 7/30\n",
      "12/12 [==============================] - 0s 4ms/step - loss: 553768640.0000 - accuracy: 0.1839\n",
      "Epoch 8/30\n",
      "12/12 [==============================] - 0s 4ms/step - loss: 536813216.0000 - accuracy: 0.1839\n",
      "Epoch 9/30\n",
      "12/12 [==============================] - 0s 3ms/step - loss: 496050080.0000 - accuracy: 0.1839\n",
      "Epoch 10/30\n",
      "12/12 [==============================] - 0s 4ms/step - loss: 557798720.0000 - accuracy: 0.1839\n",
      "Epoch 11/30\n",
      "12/12 [==============================] - 0s 3ms/step - loss: 419102048.0000 - accuracy: 0.1839\n",
      "Epoch 12/30\n",
      "12/12 [==============================] - 0s 3ms/step - loss: 299625824.0000 - accuracy: 0.1839\n",
      "Epoch 13/30\n",
      "12/12 [==============================] - 0s 3ms/step - loss: 384216544.0000 - accuracy: 0.1839\n",
      "Epoch 14/30\n",
      "12/12 [==============================] - 0s 3ms/step - loss: 740187712.0000 - accuracy: 0.1839 \n",
      "Epoch 15/30\n",
      "12/12 [==============================] - 0s 3ms/step - loss: 431988896.0000 - accuracy: 0.1839 \n",
      "Epoch 16/30\n",
      "12/12 [==============================] - 0s 4ms/step - loss: 303568320.0000 - accuracy: 0.1839\n",
      "Epoch 17/30\n",
      "12/12 [==============================] - 0s 3ms/step - loss: 427046400.0000 - accuracy: 0.1839 \n",
      "Epoch 18/30\n",
      "12/12 [==============================] - 0s 3ms/step - loss: 464953984.0000 - accuracy: 0.1839 \n",
      "Epoch 19/30\n",
      "12/12 [==============================] - 0s 4ms/step - loss: 420307168.0000 - accuracy: 0.1839\n",
      "Epoch 20/30\n",
      "12/12 [==============================] - 0s 4ms/step - loss: 421423296.0000 - accuracy: 0.1839\n",
      "Epoch 21/30\n",
      "12/12 [==============================] - 0s 3ms/step - loss: 299912928.0000 - accuracy: 0.1839\n",
      "Epoch 22/30\n",
      "12/12 [==============================] - 0s 3ms/step - loss: 344500192.0000 - accuracy: 0.1839\n",
      "Epoch 23/30\n",
      "12/12 [==============================] - 0s 3ms/step - loss: 339354304.0000 - accuracy: 0.1839\n",
      "Epoch 24/30\n",
      "12/12 [==============================] - 0s 3ms/step - loss: 314460928.0000 - accuracy: 0.1839\n",
      "Epoch 25/30\n",
      "12/12 [==============================] - 0s 3ms/step - loss: 338080608.0000 - accuracy: 0.1839\n",
      "Epoch 26/30\n",
      "12/12 [==============================] - 0s 3ms/step - loss: 235600976.0000 - accuracy: 0.1839\n",
      "Epoch 27/30\n",
      "12/12 [==============================] - 0s 3ms/step - loss: 348118880.0000 - accuracy: 0.1839\n",
      "Epoch 28/30\n",
      "12/12 [==============================] - 0s 4ms/step - loss: 265843408.0000 - accuracy: 0.1839\n",
      "Epoch 29/30\n",
      "12/12 [==============================] - 0s 3ms/step - loss: 308535968.0000 - accuracy: 0.1839\n",
      "Epoch 30/30\n",
      "12/12 [==============================] - 0s 3ms/step - loss: 280956448.0000 - accuracy: 0.1839\n"
     ]
    },
    {
     "data": {
      "text/plain": [
       "<keras.callbacks.History at 0x227dda24670>"
      ]
     },
     "execution_count": 147,
     "metadata": {},
     "output_type": "execute_result"
    }
   ],
   "source": [
    "#Het bouwen van het model met een LSTM laag.\n",
    "model = Sequential()\n",
    "model.add(LSTM(64, activation='relu', input_shape=(look_back,1)))\n",
    "model.add(Dropout(rate=0.2))#De dropout laag helpt met het verminderen van de loss.\n",
    "model.add(Dense(1))#De output laag.\n",
    "model.compile(optimizer = \"adam\", loss=\"mse\", metrics = [\"accuracy\"])#Het compilen van het model.\n",
    "\n",
    "#Het trainen van het model.\n",
    "model.fit_generator(train_generator, epochs=30, verbose=1)\n"
   ]
  },
  {
   "cell_type": "code",
   "execution_count": 1,
   "metadata": {},
   "outputs": [
    {
     "ename": "NameError",
     "evalue": "name 'model' is not defined",
     "output_type": "error",
     "traceback": [
      "\u001b[1;31m---------------------------------------------------------------------------\u001b[0m",
      "\u001b[1;31mNameError\u001b[0m                                 Traceback (most recent call last)",
      "\u001b[1;32me:\\Projecten\\MachineLearning\\MachineLearning\\Total_Deaths_LSTM.ipynb Cell 7'\u001b[0m in \u001b[0;36m<module>\u001b[1;34m\u001b[0m\n\u001b[1;32m----> <a href='vscode-notebook-cell:/e%3A/Projecten/MachineLearning/MachineLearning/Total_Deaths_LSTM.ipynb#ch0000006?line=0'>1</a>\u001b[0m prediction \u001b[39m=\u001b[39m model\u001b[39m.\u001b[39mpredict(test_generator)\n\u001b[0;32m      <a href='vscode-notebook-cell:/e%3A/Projecten/MachineLearning/MachineLearning/Total_Deaths_LSTM.ipynb#ch0000006?line=2'>3</a>\u001b[0m death_train \u001b[39m=\u001b[39m death_train\u001b[39m.\u001b[39mreshape((\u001b[39m-\u001b[39m\u001b[39m1\u001b[39m))\n\u001b[0;32m      <a href='vscode-notebook-cell:/e%3A/Projecten/MachineLearning/MachineLearning/Total_Deaths_LSTM.ipynb#ch0000006?line=3'>4</a>\u001b[0m death_test \u001b[39m=\u001b[39m death_test\u001b[39m.\u001b[39mreshape((\u001b[39m-\u001b[39m\u001b[39m1\u001b[39m))\n",
      "\u001b[1;31mNameError\u001b[0m: name 'model' is not defined"
     ]
    }
   ],
   "source": [
    "#Het voorspellen van de waardes met het getrainde model.\n",
    "prediction = model.predict(test_generator)\n",
    "\n",
    "#Het reshapen van de data om deze in de grafiek te plotten.\n",
    "death_train = death_train.reshape((-1))\n",
    "death_test = death_test.reshape((-1))\n",
    "prediction = prediction.reshape((-1))\n",
    "\n",
    "#Het plotten van de resultaten in een grafiek.\n",
    "trace1 = go.Scatter(\n",
    "    x = date_train,\n",
    "    y = death_train,\n",
    "    mode = \"lines\",\n",
    "    name = \"Data\"\n",
    ")\n",
    "trace2 = go.Scatter(\n",
    "    x = date_test,\n",
    "    y = prediction,\n",
    "    mode = \"lines\",\n",
    "    name = \"Prediction\"\n",
    ")\n",
    "trace3 = go.Scatter(\n",
    "    x = date_test,\n",
    "    y = death_test,\n",
    "    mode=\"lines\",\n",
    "    name = \"Ground Truth\"\n",
    ")\n",
    "layout = go.Layout(\n",
    "    title = \"Total deaths prediction\",\n",
    "    xaxis = {'title' : \"Date\"},\n",
    "    yaxis = {'title' : \"Total Deaths\"}\n",
    ")\n",
    "fig = go.Figure(data=[trace1, trace2, trace3], layout=layout)\n",
    "fig.show()"
   ]
  }
 ],
 "metadata": {
  "interpreter": {
   "hash": "b3ba2566441a7c06988d0923437866b63cedc61552a5af99d1f4fb67d367b25f"
  },
  "kernelspec": {
   "display_name": "Python 3.8.8 ('base')",
   "language": "python",
   "name": "python3"
  },
  "language_info": {
   "codemirror_mode": {
    "name": "ipython",
    "version": 3
   },
   "file_extension": ".py",
   "mimetype": "text/x-python",
   "name": "python",
   "nbconvert_exporter": "python",
   "pygments_lexer": "ipython3",
   "version": "3.9.8"
  },
  "orig_nbformat": 4
 },
 "nbformat": 4,
 "nbformat_minor": 2
}
