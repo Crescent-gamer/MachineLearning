{
 "cells": [
  {
   "cell_type": "code",
   "execution_count": 1,
   "metadata": {},
   "outputs": [],
   "source": [
    "import pandas as pd\n",
    "import numpy as np\n",
    "import seaborn as sns\n",
    "import matplotlib as plt\n",
    "from sklearn.model_selection import train_test_split\n",
    "from sklearn import metrics\n",
    "from sklearn.preprocessing import LabelBinarizer"
   ]
  },
  {
   "cell_type": "code",
   "execution_count": 68,
   "metadata": {},
   "outputs": [],
   "source": [
    "df = pd.read_csv(\"Case_PRB_Europe Only_true_Steven Testing_(date splitted into day-month-year columns)_V0.1.csv\")"
   ]
  },
  {
   "cell_type": "code",
   "execution_count": 55,
   "metadata": {},
   "outputs": [
    {
     "data": {
      "text/plain": [
       "Index(['iso_code', 'continent', 'location', 'date', 'day', 'month', 'year',\n",
       "       'total_cases', 'new_cases', 'new_cases_smoothed', 'total_deaths',\n",
       "       'new_deaths', 'new_deaths_smoothed', 'new_tests', 'total_tests',\n",
       "       'new_tests_smoothed', 'tests_per_case', 'positive_rate',\n",
       "       'stringency_index', 'population', 'population_density', 'median_age',\n",
       "       'aged_65_older', 'aged_70_older', 'gdp_per_capita', 'extreme_poverty',\n",
       "       'cardiovasc_death_rate', 'diabetes_prevalence', 'total_smokers',\n",
       "       'handwashing_facilities', 'hospital_beds_per_thousand',\n",
       "       'life_expectancy', 'human_development_index'],\n",
       "      dtype='object')"
      ]
     },
     "execution_count": 55,
     "metadata": {},
     "output_type": "execute_result"
    }
   ],
   "source": [
    "df.columns"
   ]
  },
  {
   "cell_type": "code",
   "execution_count": 69,
   "metadata": {},
   "outputs": [],
   "source": [
    "countries = df[\"location\"].unique()"
   ]
  },
  {
   "cell_type": "code",
   "execution_count": null,
   "metadata": {},
   "outputs": [],
   "source": [
    "y = pd.get_dummies(df[\"location\"], prefix=\"location\")\n",
    "df = df.join(y)\n",
    "df.to_csv(\"Case_PRB_Europe Only_true_Steven Testing_(one hot encoded countries)_V0.2.csv\")"
   ]
  },
  {
   "cell_type": "code",
   "execution_count": 73,
   "metadata": {},
   "outputs": [],
   "source": [
    "df.to_csv(\"Case_PRB_Europe Only_true_Steven Testing_(one hot encoded countries)_V0.2.csv\")"
   ]
  },
  {
   "cell_type": "code",
   "execution_count": 75,
   "metadata": {},
   "outputs": [],
   "source": [
    "y = pd.get_dummies(df[\"iso_code\"], prefix=\"iso_code\")\n",
    "df = df.join(y)\n",
    "df.to_csv(\"Case_PRB_Europe Only_true_Steven Testing_(one hot encoded iso_code)_V0.3.csv\")"
   ]
  },
  {
   "cell_type": "code",
   "execution_count": 76,
   "metadata": {},
   "outputs": [],
   "source": [
    "y = pd.get_dummies(df[\"continent\"], prefix=\"continent\")\n",
    "df = df.join(y)\n",
    "df.to_csv(\"Case_PRB_Europe Only_true_Steven Testing_(one hot encoded continent)_V0.4.csv\")"
   ]
  },
  {
   "cell_type": "code",
   "execution_count": 12,
   "metadata": {},
   "outputs": [
    {
     "data": {
      "text/plain": [
       "Index(['Unnamed: 0', 'iso_code', 'continent', 'location', 'date', 'day',\n",
       "       'month', 'year', 'total_cases', 'new_cases',\n",
       "       ...\n",
       "       'iso_code_ROU', 'iso_code_RUS', 'iso_code_SMR', 'iso_code_SRB',\n",
       "       'iso_code_SVK', 'iso_code_SVN', 'iso_code_SWE', 'iso_code_UKR',\n",
       "       'iso_code_VAT', 'continent_Europe'],\n",
       "      dtype='object', length=187)"
      ]
     },
     "execution_count": 12,
     "metadata": {},
     "output_type": "execute_result"
    }
   ],
   "source": [
    "df = pd.read_csv(\"Case_PRB_Europe Only_true_Steven Testing_(deleted unused columns)_V0.5.csv\")"
   ]
  },
  {
   "cell_type": "code",
   "execution_count": 14,
   "metadata": {},
   "outputs": [],
   "source": [
    "df = df.dropna(subset = [\"hospital_beds_per_thousand\"], how=\"all\")\n",
    "df.to_csv(\"Case_PRB_Europe Only_true_Steven Testing_(dropped hospital beds na)_V0.6.csv\")"
   ]
  },
  {
   "cell_type": "code",
   "execution_count": 26,
   "metadata": {},
   "outputs": [],
   "source": [
    "df = pd.read_csv(\"Case_PRB_Europe Only_true_Steven Testing__V0.7.csv\")\n"
   ]
  },
  {
   "cell_type": "code",
   "execution_count": 27,
   "metadata": {},
   "outputs": [],
   "source": [
    "df[\"new_cases_smoothed\"] = df[\"new_cases_smoothed\"].interpolate(method=\"linear\", limit_direction=\"backward\")"
   ]
  },
  {
   "cell_type": "code",
   "execution_count": 28,
   "metadata": {},
   "outputs": [],
   "source": [
    "df.to_csv(\"Case_PRB_Europe Only_true_Steven Testing__V0.8.csv\")"
   ]
  },
  {
   "cell_type": "code",
   "execution_count": 55,
   "metadata": {},
   "outputs": [
    {
     "data": {
      "text/plain": [
       "1530"
      ]
     },
     "execution_count": 55,
     "metadata": {},
     "output_type": "execute_result"
    }
   ],
   "source": [
    "df = pd.read_csv(\"Case_PRB_Europe Only_true_Steven Testing__V0.8.csv\")\n",
    "df[\"stringency_index\"].isna().sum()"
   ]
  },
  {
   "cell_type": "code",
   "execution_count": 37,
   "metadata": {},
   "outputs": [],
   "source": [
    "df[\"new_deaths_smoothed\"] = df[\"new_deaths_smoothed\"].interpolate(method=\"linear\", limit_direction=\"backward\")"
   ]
  },
  {
   "cell_type": "code",
   "execution_count": 39,
   "metadata": {},
   "outputs": [],
   "source": [
    "df.to_csv(\"Case_PRB_Europe Only_true_Steven Testing_interpolated values_V0.8.csv\")"
   ]
  },
  {
   "cell_type": "code",
   "execution_count": 41,
   "metadata": {},
   "outputs": [],
   "source": [
    "df = pd.read_csv(\"Case_PRB_Europe Only_true_Steven Testing_interpolated values_V0.8.csv\")\n",
    "df = df[df[\"location\"] != \"Liechtenstein\"]"
   ]
  },
  {
   "cell_type": "code",
   "execution_count": 42,
   "metadata": {},
   "outputs": [],
   "source": [
    "df = df[df[\"location\"] != \"Monaco\"]"
   ]
  },
  {
   "cell_type": "code",
   "execution_count": 43,
   "metadata": {},
   "outputs": [],
   "source": [
    "df.to_csv(\"Case_PRB_Europe Only_true_Steven Testing_deleted Liechtenstein and Monaco_V0.9.csv\")"
   ]
  },
  {
   "cell_type": "code",
   "execution_count": 51,
   "metadata": {},
   "outputs": [],
   "source": [
    "df = pd.read_csv(\"Case_PRB_Europe Only_true_Steven Testing_deleted Liechtenstein and Monaco_V0.9.csv\")\n",
    "df = df.groupby(\"location\").apply(lambda group: group.interpolate(method=\"linear\", limit_direction=\"both\"))\n",
    "df.to_csv(\"Case_PRB_Europe Only_true_Steven Testing_interpolated more_V0.10.csv\")"
   ]
  },
  {
   "cell_type": "code",
   "execution_count": 57,
   "metadata": {},
   "outputs": [],
   "source": [
    "df = pd.read_csv(\"Case_PRB_Europe Only_true_Steven Testing_interpolated more_V0.10.csv\")\n",
    "df[\"stringency_index\"] = df[\"stringency_index\"].fillna(value=0.0)\n",
    "df.to_csv(\"Case_PRB_Europe Only_true_Steven Testing_filled na with 0_V0.11.csv\")\n"
   ]
  },
  {
   "cell_type": "code",
   "execution_count": 59,
   "metadata": {},
   "outputs": [],
   "source": [
    "df = pd.read_csv(\"Case_PRB_Europe Only_true_Steven Testing_filled na with 0_V0.11.csv\")\n",
    "df = df[df[\"location\"] != \"San Marino\"]\n",
    "df.to_csv(\"Case_PRB_Europe Only_true_Steven Testing_deleted san marino_V0.12.csv\")\n"
   ]
  },
  {
   "cell_type": "code",
   "execution_count": 3,
   "metadata": {},
   "outputs": [],
   "source": [
    "df = pd.read_csv(\"Case_PRB_Europe Only_true_Steven Testing_deleted san marino_V0.12.csv\")\n",
    "# df = ['income'].fillna((sub2['income'].mean()), inplace=True)\n",
    "df[\"aged_70_older\"].fillna((df[\"aged_70_older\"].mean()), inplace=True)\n",
    "df.to_csv(\"Case_PRB_Europe Only_true_Steven Testing_median age 70 shit_V0.13.csv\")"
   ]
  },
  {
   "cell_type": "code",
   "execution_count": 13,
   "metadata": {},
   "outputs": [
    {
     "data": {
      "text/plain": [
       "2896"
      ]
     },
     "execution_count": 13,
     "metadata": {},
     "output_type": "execute_result"
    }
   ],
   "source": [
    "df = pd.read_csv(\"Case_PRB_Europe Only_true_Steven Testing_median age 70 shit_V0.13.csv\")\n",
    "df[\"extreme_poverty\"].isna().sum()"
   ]
  },
  {
   "cell_type": "code",
   "execution_count": 22,
   "metadata": {},
   "outputs": [],
   "source": [
    "df = pd.read_csv(\"Case_PRB_Europe Only_true_Steven Testing_median age 70 shit_V0.13.csv\")\n",
    "df[\"extreme_poverty\"].fillna(10, inplace = True)\n",
    "df.to_csv(\"Case_PRB_Europe Only_true_Steven Testing_fixed europes poverty_V0.14.csv\")"
   ]
  },
  {
   "cell_type": "code",
   "execution_count": 28,
   "metadata": {},
   "outputs": [
    {
     "data": {
      "text/plain": [
       "array(['Albania', 'Austria', 'Belgium', 'Bulgaria',\n",
       "       'Bosnia and Herzegovina', 'Belarus', 'Switzerland', 'Cyprus',\n",
       "       'Czech Republic', 'Germany', 'Denmark', 'Spain', 'Estonia',\n",
       "       'Finland', 'France', 'United Kingdom', 'Greece', 'Croatia',\n",
       "       'Hungary', 'Ireland', 'Iceland', 'Italy', 'Lithuania',\n",
       "       'Luxembourg', 'Latvia', 'Moldova', 'Macedonia', 'Malta',\n",
       "       'Montenegro', 'Netherlands', 'Norway', 'Poland', 'Portugal',\n",
       "       'Romania', 'Russia', 'Serbia', 'Slovakia', 'Slovenia', 'Sweden',\n",
       "       'Ukraine'], dtype=object)"
      ]
     },
     "execution_count": 28,
     "metadata": {},
     "output_type": "execute_result"
    }
   ],
   "source": [
    "df = pd.read_csv(\"Case_PRB_Europe_Only_true_Steven_Testing_increased_smokers_V0.15.csv\")\n",
    "# df = ['income'].fillna((sub2['income'].mean()), inplace=True)\n",
    "df[\"total_smokers\"].fillna((df[\"total_smokers\"].mean()), inplace=True)\n",
    "df.to_csv(\"Case_PRB_Europe_Only_true_Steven_Testing_increased_smokers_V0.15.csv\")"
   ]
  }
 ],
 "metadata": {
  "interpreter": {
   "hash": "b3ba2566441a7c06988d0923437866b63cedc61552a5af99d1f4fb67d367b25f"
  },
  "kernelspec": {
   "display_name": "Python 3.8.8 64-bit ('base': conda)",
   "language": "python",
   "name": "python3"
  },
  "language_info": {
   "codemirror_mode": {
    "name": "ipython",
    "version": 3
   },
   "file_extension": ".py",
   "mimetype": "text/x-python",
   "name": "python",
   "nbconvert_exporter": "python",
   "pygments_lexer": "ipython3",
   "version": "3.8.8"
  },
  "orig_nbformat": 4
 },
 "nbformat": 4,
 "nbformat_minor": 2
}
